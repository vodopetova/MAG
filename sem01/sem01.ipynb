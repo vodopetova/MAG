{
 "cells": [
  {
   "cell_type": "markdown",
   "id": "0c11d994-56e1-4a51-b197-82686dbec5af",
   "metadata": {},
   "source": [
    "#### Задача 1. \n",
    "\n",
    "Hello Vasya: напишите код, который запросит у пользователя его имя и выведет приветствие в форматированной строке. "
   ]
  },
  {
   "cell_type": "code",
   "execution_count": null,
   "id": "9d5105ee-db6d-4884-8b46-ac021790d915",
   "metadata": {},
   "outputs": [],
   "source": [
    "# your code here\n",
    "name = input('Как тебя зовут?')\n",
    "print(f'Привет, {name}')"
   ]
  },
  {
   "cell_type": "markdown",
   "id": "97f3f946-9479-4c8f-b8ac-2c62f890e711",
   "metadata": {},
   "source": [
    "#### Задача 2. \n",
    "\n",
    "Сложение: запрашиваем у пользователя два числа (числа могут быть любыми!), выводим в форматированном виде их сумму. Проверьте, что пользователь действительно ввел числа, прежде чем складывать их."
   ]
  },
  {
   "cell_type": "code",
   "execution_count": null,
   "id": "c57050f7-f333-41e5-be3f-def30725d639",
   "metadata": {},
   "outputs": [],
   "source": [
    "# your code here\n",
    "numb1 = input('Введите число: ')\n",
    "numb2 = input('Введите число: ')\n",
    "if numb1.isdigit() and numb2.isdigit():\n",
    "    print(int(numb1) + int(numb2))\n",
    "else:\n",
    "    print('Вы ввели не числа')"
   ]
  },
  {
   "cell_type": "markdown",
   "id": "6fd1a673-421e-41c4-afdf-b5227221508a",
   "metadata": {},
   "source": [
    "#### Задача 3. \n",
    "\n",
    "Последняя цифра: возвращаем пользователю последнюю цифру из введенного числа. Умельцы делают двумя способами."
   ]
  },
  {
   "cell_type": "code",
   "execution_count": null,
   "id": "6e7a951d-b394-4c65-a205-26dfa58f76dc",
   "metadata": {},
   "outputs": [],
   "source": [
    "# your code here\n",
    "numb = input('Введите число: ')\n",
    "print(int(numb)%10)"
   ]
  },
  {
   "cell_type": "code",
   "execution_count": null,
   "id": "9079cef7",
   "metadata": {},
   "outputs": [],
   "source": [
    "# your code here\n",
    "numb = input('Введите число: ')\n",
    "print(numb[-1])"
   ]
  },
  {
   "cell_type": "markdown",
   "id": "06bc7865-33fb-4cd8-bf5c-7cc36a470788",
   "metadata": {},
   "source": [
    "#### Задача 4. \n",
    "\n",
    "Дробная часть: возвращаем первые две цифры дробной части. То же про умельцев."
   ]
  },
  {
   "cell_type": "code",
   "execution_count": 17,
   "id": "513a3d4c-5bc4-463b-82e3-0abdc473368f",
   "metadata": {},
   "outputs": [
    {
     "name": "stdout",
     "output_type": "stream",
     "text": [
      "0.23\n"
     ]
    }
   ],
   "source": [
    "# your code here\n",
    "numb = input('Введите дробное число (через точку): ')\n",
    "print(round(float(numb)%1, 2))"
   ]
  },
  {
   "cell_type": "code",
   "execution_count": 24,
   "id": "cd12c014",
   "metadata": {},
   "outputs": [
    {
     "name": "stdout",
     "output_type": "stream",
     "text": [
      "23\n"
     ]
    }
   ],
   "source": [
    "# your code here\n",
    "numb = input('Введите дробное число (через точку): ')\n",
    "point = numb.find('.')\n",
    "print(numb[point+1:point+3])"
   ]
  },
  {
   "cell_type": "markdown",
   "id": "3c8c0af9-1d17-44c2-85ad-97e88a72e608",
   "metadata": {},
   "source": [
    "#### Задача 5. \n",
    "\n",
    "Гипотенуза: пользователь вводит длины катетов, возвращаем длину гипотенузы. Попробуйте сделать эту задачу с помощью try-except, чтобы убедиться, что пользователь ввел числа с плавающей точкой. "
   ]
  },
  {
   "cell_type": "code",
   "execution_count": 56,
   "id": "8f34e29d-45e7-4bc7-8bce-52253b998dd3",
   "metadata": {},
   "outputs": [
    {
     "name": "stdout",
     "output_type": "stream",
     "text": [
      "ValueError: введенные значения не формата float\n"
     ]
    }
   ],
   "source": [
    "A = input('Введите длину катета A: ')\n",
    "B = input('Введите длину катета B: ')\n",
    "try:\n",
    "    C = (float(A)**2 + float(B)**2)**0.5\n",
    "    print(C)\n",
    "except ValueError:\n",
    "    print('ValueError: введенные значения не формата float')"
   ]
  },
  {
   "cell_type": "markdown",
   "id": "705a39f3-2f1b-45f9-bcf8-ac948bb6b373",
   "metadata": {},
   "source": [
    "#### Задача 6 (умельческая).\n",
    "\n",
    "Линейный Фибоначчи (занудный): вводится целое число, необходимо вернуть число Фибоначчи с таким номером. Напишите код с рекурсией, работающий за линейную сложность от N. Освежить в памяти, что такое [числа Фибоначчи](https://ru.wikipedia.org/wiki/%D0%A7%D0%B8%D1%81%D0%BB%D0%B0_%D0%A4%D0%B8%D0%B1%D0%BE%D0%BD%D0%B0%D1%87%D1%87%D0%B8). "
   ]
  },
  {
   "cell_type": "code",
   "execution_count": null,
   "id": "5cd5df9e-8937-4c9a-9ba2-c2087b2a3f0a",
   "metadata": {},
   "outputs": [],
   "source": [
    "# your code here\n",
    "def fib(n):\n",
    "    if n in (1, 2):\n",
    "        return 1\n",
    "    return fib(n-1) + fib(n-2)\n",
    "\n",
    "print(fib(6))"
   ]
  },
  {
   "cell_type": "markdown",
   "id": "d236b5c3-0342-46b4-9ebf-c3d580461639",
   "metadata": {},
   "source": [
    "#### Задача 7 (умельческая).\n",
    "\n",
    "Напишите скрипт, который будет принимать на вход некий список из целых чисел, в котором в случайном порядке встречаются нули. Нужно переместить все нули в конец списка, сохранив исходный порядок остальных элементов, за линейное время и без использования дополнительной памяти."
   ]
  },
  {
   "cell_type": "code",
   "execution_count": 43,
   "id": "3a8d721b-f708-442a-b28f-1b0dbbef3f7a",
   "metadata": {},
   "outputs": [],
   "source": [
    "def move_zeros(lst):\n",
    "    #your code here\n",
    "    lst0 = []\n",
    "    for i in range(len(lst)-1, -1, -1):\n",
    "      if lst[i] == 0:\n",
    "        lst0.append(lst[i])\n",
    "        del lst[i]\n",
    "    lst.extend(lst0)\n",
    "    return lst\n",
    "\n",
    "assert move_zeros([1, 0, 1, 2, 0, 1, 3]) == [1, 1, 2, 1, 3, 0, 0]"
   ]
  }
 ],
 "metadata": {
  "kernelspec": {
   "display_name": "Python 3 (ipykernel)",
   "language": "python",
   "name": "python3"
  },
  "language_info": {
   "codemirror_mode": {
    "name": "ipython",
    "version": 3
   },
   "file_extension": ".py",
   "mimetype": "text/x-python",
   "name": "python",
   "nbconvert_exporter": "python",
   "pygments_lexer": "ipython3",
   "version": "3.12.0"
  }
 },
 "nbformat": 4,
 "nbformat_minor": 5
}
