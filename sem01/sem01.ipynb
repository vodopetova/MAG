{
 "cells": [
  {
   "cell_type": "markdown",
   "id": "0c11d994-56e1-4a51-b197-82686dbec5af",
   "metadata": {},
   "source": [
    "#### Задача 1. \n",
    "\n",
    "Hello Vasya: напишите код, который запросит у пользователя его имя и выведет приветствие в форматированной строке. "
   ]
  },
  {
   "cell_type": "code",
   "execution_count": null,
   "id": "9d5105ee-db6d-4884-8b46-ac021790d915",
   "metadata": {},
   "outputs": [],
   "source": [
    "# your code here"
   ]
  },
  {
   "cell_type": "markdown",
   "id": "97f3f946-9479-4c8f-b8ac-2c62f890e711",
   "metadata": {},
   "source": [
    "#### Задача 2. \n",
    "\n",
    "Сложение: запрашиваем у пользователя два числа (числа могут быть любыми!), выводим в форматированном виде их сумму. Проверьте, что пользователь действительно ввел числа, прежде чем складывать их."
   ]
  },
  {
   "cell_type": "code",
   "execution_count": null,
   "id": "c57050f7-f333-41e5-be3f-def30725d639",
   "metadata": {},
   "outputs": [],
   "source": [
    "# your code here"
   ]
  },
  {
   "cell_type": "markdown",
   "id": "6fd1a673-421e-41c4-afdf-b5227221508a",
   "metadata": {},
   "source": [
    "#### Задача 3. \n",
    "\n",
    "Последняя цифра: возвращаем пользователю последнюю цифру из введенного числа. Умельцы делают двумя способами."
   ]
  },
  {
   "cell_type": "code",
   "execution_count": null,
   "id": "6e7a951d-b394-4c65-a205-26dfa58f76dc",
   "metadata": {},
   "outputs": [],
   "source": [
    "# your code here"
   ]
  },
  {
   "cell_type": "markdown",
   "id": "06bc7865-33fb-4cd8-bf5c-7cc36a470788",
   "metadata": {},
   "source": [
    "#### Задача 4. \n",
    "\n",
    "Дробная часть: возвращаем первые две цифры дробной части. То же про умельцев."
   ]
  },
  {
   "cell_type": "code",
   "execution_count": null,
   "id": "513a3d4c-5bc4-463b-82e3-0abdc473368f",
   "metadata": {},
   "outputs": [],
   "source": [
    "# your code here"
   ]
  },
  {
   "cell_type": "markdown",
   "id": "3c8c0af9-1d17-44c2-85ad-97e88a72e608",
   "metadata": {},
   "source": [
    "#### Задача 5. \n",
    "\n",
    "Гипотенуза: пользователь вводит длины катетов, возвращаем длину гипотенузы. Попробуйте сделать эту задачу с помощью try-except, чтобы убедиться, что пользователь ввел числа с плавающей точкой. "
   ]
  },
  {
   "cell_type": "code",
   "execution_count": null,
   "id": "8f34e29d-45e7-4bc7-8bce-52253b998dd3",
   "metadata": {},
   "outputs": [],
   "source": [
    "# your code here"
   ]
  },
  {
   "cell_type": "markdown",
   "id": "705a39f3-2f1b-45f9-bcf8-ac948bb6b373",
   "metadata": {},
   "source": [
    "#### Задача 6 (умельческая).\n",
    "\n",
    "Линейный Фибоначчи (занудный): вводится целое число, необходимо вернуть число Фибоначчи с таким номером. Напишите код с рекурсией, работающий за линейную сложность от N. Освежить в памяти, что такое [числа Фибоначчи](https://ru.wikipedia.org/wiki/%D0%A7%D0%B8%D1%81%D0%BB%D0%B0_%D0%A4%D0%B8%D0%B1%D0%BE%D0%BD%D0%B0%D1%87%D1%87%D0%B8). "
   ]
  },
  {
   "cell_type": "code",
   "execution_count": null,
   "id": "5cd5df9e-8937-4c9a-9ba2-c2087b2a3f0a",
   "metadata": {},
   "outputs": [],
   "source": [
    "# your code here"
   ]
  },
  {
   "cell_type": "markdown",
   "id": "d236b5c3-0342-46b4-9ebf-c3d580461639",
   "metadata": {},
   "source": [
    "#### Задача 7 (умельческая).\n",
    "\n",
    "Напишите скрипт, который будет принимать на вход некий список из целых чисел, в котором в случайном порядке встречаются нули. Нужно переместить все нули в конец списка, сохранив исходный порядок остальных элементов, за линейное время и без использования дополнительной памяти."
   ]
  },
  {
   "cell_type": "code",
   "execution_count": null,
   "id": "3a8d721b-f708-442a-b28f-1b0dbbef3f7a",
   "metadata": {},
   "outputs": [],
   "source": [
    "def move_zeros(lst):\n",
    "    #your code here\n",
    "    return lst\n",
    "\n",
    "assert move_zeros([1, 0, 1, 2, 0, 1, 3]) == [1, 1, 2, 1, 3, 0, 0]"
   ]
  }
 ],
 "metadata": {
  "kernelspec": {
   "display_name": "Python 3 (ipykernel)",
   "language": "python",
   "name": "python3"
  },
  "language_info": {
   "codemirror_mode": {
    "name": "ipython",
    "version": 3
   },
   "file_extension": ".py",
   "mimetype": "text/x-python",
   "name": "python",
   "nbconvert_exporter": "python",
   "pygments_lexer": "ipython3",
   "version": "3.11.5"
  }
 },
 "nbformat": 4,
 "nbformat_minor": 5
}
